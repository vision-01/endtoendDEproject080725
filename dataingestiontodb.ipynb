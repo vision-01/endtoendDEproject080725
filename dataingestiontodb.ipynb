{
 "cells": [
  {
   "cell_type": "code",
   "execution_count": 3,
   "id": "833864c0",
   "metadata": {},
   "outputs": [],
   "source": [
    "import mysql.connector\n",
    "from mysql.connector import Error"
   ]
  },
  {
   "cell_type": "code",
   "execution_count": 5,
   "id": "2282d7d9",
   "metadata": {},
   "outputs": [],
   "source": [
    "from dotenv import load_dotenv\n",
    "import os\n"
   ]
  },
  {
   "cell_type": "code",
   "execution_count": 6,
   "id": "56f8c9ec",
   "metadata": {},
   "outputs": [
    {
     "data": {
      "text/plain": [
       "True"
      ]
     },
     "execution_count": 6,
     "metadata": {},
     "output_type": "execute_result"
    }
   ],
   "source": [
    "load_dotenv()"
   ]
  },
  {
   "cell_type": "code",
   "execution_count": 4,
   "id": "0d457c16",
   "metadata": {},
   "outputs": [
    {
     "name": "stderr",
     "output_type": "stream",
     "text": [
      "C:\\Users\\visio\\AppData\\Local\\Temp\\ipykernel_37396\\964179517.py:16: DeprecationWarning: Call to deprecated function get_server_info. Reason: \n",
      "    The property counterpart 'server_info' should be used instead.\n",
      "\n",
      "  db_info=connection.get_server_info()\n"
     ]
    },
    {
     "name": "stdout",
     "output_type": "stream",
     "text": [
      "Connected to MySQL Server version: 8.0.36-28\n",
      "Current database: ('olistsql_drewteaget',)\n",
      "MySQL connection is closed\n"
     ]
    }
   ],
   "source": [
    "hostname=os.getenv(\"hostname\")\n",
    "username=os.getenv(\"username\")\n",
    "password=os.getenv(\"password\")\n",
    "database=os.getenv(\"database\")\n",
    "port=os.getenv(\"port\")\n",
    "\n",
    "try:\n",
    "    connection=mysql.connector.connect(\n",
    "        host=hostname,\n",
    "        user=username,\n",
    "        password=password,\n",
    "        database=database,\n",
    "        port=port\n",
    "    )\n",
    "    if connection.is_connected():\n",
    "        db_info=connection.get_server_info()\n",
    "        print(\"Connected to MySQL Server version:\", db_info)\n",
    "        cursor= connection.cursor()\n",
    "        cursor.execute(\"SELECT DATABASE();\")\n",
    "        current_database = cursor.fetchone()\n",
    "        print(\"Current database:\", current_database)\n",
    "except Error as e:\n",
    "    print(\"Error while connecting to MySQL:\", e)\n",
    "\n",
    "finally:\n",
    "    if connection.is_connected():\n",
    "        cursor.close()\n",
    "        connection.close()\n",
    "        print(\"MySQL connection is closed\")"
   ]
  },
  {
   "cell_type": "code",
   "execution_count": 12,
   "id": "7d070fa5",
   "metadata": {},
   "outputs": [
    {
     "data": {
      "text/plain": [
       "(103886, 5)"
      ]
     },
     "execution_count": 12,
     "metadata": {},
     "output_type": "execute_result"
    }
   ],
   "source": [
    "import pandas as pd\n",
    "\n",
    "order_payments = pd.read_csv(\"Data/olist_order_payments_dataset.csv\")\n",
    "order_payments.head()\n",
    "order_payments.shape\n"
   ]
  },
  {
   "cell_type": "code",
   "execution_count": 16,
   "id": "15864367",
   "metadata": {},
   "outputs": [
    {
     "name": "stderr",
     "output_type": "stream",
     "text": [
      "C:\\Users\\visio\\AppData\\Local\\Temp\\ipykernel_37396\\2360768104.py:13: DeprecationWarning: Call to deprecated function get_server_info. Reason: \n",
      "    The property counterpart 'server_info' should be used instead.\n",
      "\n",
      "  print(\"Connected to MySQL Server\", connection.get_server_info())\n"
     ]
    },
    {
     "name": "stdout",
     "output_type": "stream",
     "text": [
      "Connected to MySQL Server 8.0.36-28\n",
      "Table order_payments created/verified successfully.\n",
      "Loaded 103886 rows from CSV file.\n",
      "Table order_payments created/verified successfully.\n",
      "Loaded 103886 rows from CSV file.\n",
      "Data loaded successfully into order_payments table.\n",
      "Inserted 103886 rows.\n",
      "MySQL connection is closed\n",
      "Data loaded successfully into order_payments table.\n",
      "Inserted 103886 rows.\n",
      "MySQL connection is closed\n"
     ]
    }
   ],
   "source": [
    "csv_file_path = \"Data/olist_order_payments_dataset.csv\"\n",
    "table_name = \"order_payments\"\n",
    "\n",
    "try:\n",
    "    connection = mysql.connector.connect(\n",
    "        host=hostname,\n",
    "        user=username,\n",
    "        password=password,\n",
    "        database=database,\n",
    "        port=port\n",
    "    )\n",
    "    if connection.is_connected():\n",
    "        print(\"Connected to MySQL Server\", connection.get_server_info())\n",
    "        cursor = connection.cursor()\n",
    "        \n",
    "        # Create table if it does not exist\n",
    "        create_table_query = f\"\"\"\n",
    "        CREATE TABLE IF NOT EXISTS {table_name} (\n",
    "            order_id VARCHAR(50),\n",
    "            payment_sequential INT,\n",
    "            payment_type VARCHAR(50),\n",
    "            payment_installments INT,\n",
    "            payment_value DECIMAL(10,2)\n",
    "        )\n",
    "        \"\"\"\n",
    "        cursor.execute(create_table_query)\n",
    "        print(f\"Table {table_name} created/verified successfully.\")\n",
    "        \n",
    "        # Read CSV file using pandas\n",
    "        df = pd.read_csv(csv_file_path)\n",
    "        print(f\"Loaded {len(df)} rows from CSV file.\")\n",
    "        \n",
    "        # Insert data row by row\n",
    "        insert_query = f\"\"\"\n",
    "        INSERT INTO {table_name} \n",
    "        (order_id, payment_sequential, payment_type, payment_installments, payment_value)\n",
    "        VALUES (%s, %s, %s, %s, %s)\n",
    "        \"\"\"\n",
    "        \n",
    "        # Convert DataFrame to list of tuples for insertion\n",
    "        data_to_insert = []\n",
    "        for index, row in df.iterrows():\n",
    "            data_to_insert.append((\n",
    "                row['order_id'],\n",
    "                int(row['payment_sequential']),\n",
    "                row['payment_type'],\n",
    "                int(row['payment_installments']),\n",
    "                float(row['payment_value'])\n",
    "            ))\n",
    "        \n",
    "        # Execute batch insert\n",
    "        cursor.executemany(insert_query, data_to_insert)\n",
    "        connection.commit()\n",
    "        \n",
    "        print(f\"Data loaded successfully into {table_name} table.\")\n",
    "        print(f\"Inserted {cursor.rowcount} rows.\")\n",
    "        \n",
    "except Error as e:\n",
    "    print(\"Error while connecting to MySQL:\", e)\n",
    "\n",
    "finally:\n",
    "    if connection.is_connected():\n",
    "        cursor.close()\n",
    "        connection.close()\n",
    "        print(\"MySQL connection is closed\")"
   ]
  },
  {
   "cell_type": "markdown",
   "id": "3c097a59",
   "metadata": {},
   "source": [
    "Connecting to mongodb"
   ]
  },
  {
   "cell_type": "code",
   "execution_count": null,
   "id": "bb5f4063",
   "metadata": {},
   "outputs": [],
   "source": [
    "# Import MongoDB libraries\n",
    "from pymongo import MongoClient\n",
    "from pymongo.errors import ConnectionFailure, ServerSelectionTimeoutError\n",
    "import json"
   ]
  },
  {
   "cell_type": "code",
   "execution_count": null,
   "id": "139122c6",
   "metadata": {},
   "outputs": [],
   "source": [
    "# MongoDB connection configuration\n",
    "\n",
    "\n",
    "# For local MongoDB instance\n",
    "mongodb_uri = \"mongodb://localhost:27017/\"\n",
    "database_name = \"olist_ecommerce\"\n",
    "collection_name = \"order_payments\""
   ]
  },
  {
   "cell_type": "code",
   "execution_count": null,
   "id": "525719b8",
   "metadata": {},
   "outputs": [],
   "source": [
    "# Function to connect to MongoDB\n",
    "def connect_to_mongodb(uri, db_name):\n",
    "    try:\n",
    "        # Create MongoDB client\n",
    "        client = MongoClient(uri, serverSelectionTimeoutMS=5000)\n",
    "        \n",
    "        # Test the connection\n",
    "        client.admin.command('ping')\n",
    "        print(\"Successfully connected to MongoDB!\")\n",
    "        \n",
    "        # Get database\n",
    "        database = client[db_name]\n",
    "        return client, database\n",
    "        \n",
    "    except ConnectionFailure:\n",
    "        print(\"Failed to connect to MongoDB - Connection failure\")\n",
    "        return None, None\n",
    "    except ServerSelectionTimeoutError:\n",
    "        print(\"Failed to connect to MongoDB - Server selection timeout\")\n",
    "        print(\"Make sure MongoDB is running on your system\")\n",
    "        return None, None\n",
    "    except Exception as e:\n",
    "        print(f\"Error connecting to MongoDB: {e}\")\n",
    "        return None, None"
   ]
  },
  {
   "cell_type": "code",
   "execution_count": null,
   "id": "f43064cc",
   "metadata": {},
   "outputs": [],
   "source": [
    "# Function to upload CSV data to MongoDB\n",
    "def upload_csv_to_mongodb(csv_file_path, database, collection_name):\n",
    "    try:\n",
    "        # Read CSV file\n",
    "        df = pd.read_csv(csv_file_path)\n",
    "        print(f\"Loaded {len(df)} rows from {csv_file_path}\")\n",
    "        \n",
    "        # Convert DataFrame to list of dictionaries\n",
    "        records = df.to_dict('records')\n",
    "        \n",
    "        # Get collection\n",
    "        collection = database[collection_name]\n",
    "        \n",
    "        # Insert data\n",
    "        result = collection.insert_many(records)\n",
    "        print(f\"Successfully inserted {len(result.inserted_ids)} documents into '{collection_name}' collection\")\n",
    "        \n",
    "        return True\n",
    "        \n",
    "    except Exception as e:\n",
    "        print(f\"Error uploading data to MongoDB: {e}\")\n",
    "        return False"
   ]
  },
  {
   "cell_type": "code",
   "execution_count": null,
   "id": "ed250a7b",
   "metadata": {},
   "outputs": [],
   "source": [
    "# Connect to MongoDB and upload data\n",
    "client, database = connect_to_mongodb(mongodb_uri, database_name)\n",
    "\n",
    "if client and database:\n",
    "    # Upload order payments data\n",
    "    csv_file = \"Data/olist_order_payments_dataset.csv\"\n",
    "    success = upload_csv_to_mongodb(csv_file, database, collection_name)\n",
    "    \n",
    "    if success:\n",
    "        # Verify the upload by checking document count\n",
    "        collection = database[collection_name]\n",
    "        doc_count = collection.count_documents({})\n",
    "        print(f\"Total documents in '{collection_name}' collection: {doc_count}\")\n",
    "        \n",
    "        # Show a sample document\n",
    "        sample_doc = collection.find_one()\n",
    "        print(\"\\nSample document:\")\n",
    "        print(json.dumps(sample_doc, indent=2, default=str))\n",
    "    \n",
    "    # Close the connection\n",
    "    client.close()\n",
    "    print(\"\\nMongoDB connection closed\")\n",
    "else:\n",
    "    print(\"Failed to connect to MongoDB. Please check your connection settings.\")"
   ]
  },
  {
   "cell_type": "code",
   "execution_count": null,
   "id": "4108f4d7",
   "metadata": {},
   "outputs": [],
   "source": [
    "# Upload all CSV files to MongoDB\n",
    "csv_files = [\n",
    "    (\"Data/olist_customers_dataset.csv\", \"customers\"),\n",
    "    (\"Data/olist_geolocation_dataset.csv\", \"geolocation\"),\n",
    "    (\"Data/olist_order_items_dataset.csv\", \"order_items\"),\n",
    "    (\"Data/olist_order_payments_dataset.csv\", \"order_payments\"),\n",
    "    (\"Data/olist_order_reviews_dataset.csv\", \"order_reviews\"),\n",
    "    (\"Data/olist_orders_dataset.csv\", \"orders\"),\n",
    "    (\"Data/olist_products_dataset.csv\", \"products\"),\n",
    "    (\"Data/olist_sellers_dataset.csv\", \"sellers\"),\n",
    "    (\"Data/product_category_name_translation.csv\", \"product_categories\")\n",
    "]\n",
    "\n",
    "# Connect to MongoDB\n",
    "client, database = connect_to_mongodb(mongodb_uri, database_name)\n",
    "\n",
    "if client and database:\n",
    "    print(\"Uploading all CSV files to MongoDB...\\n\")\n",
    "    \n",
    "    for csv_file, collection_name in csv_files:\n",
    "        print(f\"Uploading {csv_file} to collection '{collection_name}'...\")\n",
    "        success = upload_csv_to_mongodb(csv_file, database, collection_name)\n",
    "        \n",
    "        if success:\n",
    "            collection = database[collection_name]\n",
    "            doc_count = collection.count_documents({})\n",
    "            print(f\"Collection '{collection_name}' now has {doc_count} documents\\n\")\n",
    "        else:\n",
    "            print(f\"Failed to upload {csv_file}\\n\")\n",
    "    \n",
    "    print(\"Upload process completed!\")\n",
    "    \n",
    "    # Show all collections in the database\n",
    "    collections = database.list_collection_names()\n",
    "    print(f\"\\nCollections in database '{database_name}':\")\n",
    "    for col in collections:\n",
    "        count = database[col].count_documents({})\n",
    "        print(f\"  - {col}: {count} documents\")\n",
    "    \n",
    "    # Close the connection\n",
    "    client.close()\n",
    "    print(\"\\nMongoDB connection closed\")\n",
    "else:\n",
    "    print(\"Failed to connect to MongoDB. Please check your connection settings.\")"
   ]
  },
  {
   "cell_type": "code",
   "execution_count": null,
   "id": "b61b3c05",
   "metadata": {},
   "outputs": [],
   "source": []
  }
 ],
 "metadata": {
  "kernelspec": {
   "display_name": "venv",
   "language": "python",
   "name": "python3"
  },
  "language_info": {
   "codemirror_mode": {
    "name": "ipython",
    "version": 3
   },
   "file_extension": ".py",
   "mimetype": "text/x-python",
   "name": "python",
   "nbconvert_exporter": "python",
   "pygments_lexer": "ipython3",
   "version": "3.12.2"
  }
 },
 "nbformat": 4,
 "nbformat_minor": 5
}
